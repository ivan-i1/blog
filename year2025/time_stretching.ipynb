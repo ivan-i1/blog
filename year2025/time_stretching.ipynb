{
 "cells": [
  {
   "cell_type": "markdown",
   "metadata": {},
   "source": [
    "# Time is weird\n",
    "\n",
    "I wanted to include just a series of perspective inducing ideas that I have read around the internet but honestly haven't stopped to confirm or deny.\n",
    "\n",
    "Sharks older than polaris\n",
    "Crocodiles not extremely different from the original ones\n"
   ]
  }
 ],
 "metadata": {
  "language_info": {
   "name": "python"
  }
 },
 "nbformat": 4,
 "nbformat_minor": 2
}
